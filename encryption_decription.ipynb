{
 "cells": [
  {
   "cell_type": "code",
   "execution_count": null,
   "metadata": {},
   "outputs": [],
   "source": [
    "class BasicCryptology:\n",
    "    def __init__(self,start,end) -> None:\n",
    "        self.start=ord(start)\n",
    "        self.end=ord(end)  \n",
    "        self.k=self.end-self.start+1  #   no of characters\n",
    "    def Encription(self,string,key):\n",
    "        # print(string,self.k)\n",
    "        charmap={}\n",
    "        cyphermap={}\n",
    "        cypher=''        \n",
    "        # for ch in string:\n",
    "        #     val=ord(ch)\n",
    "        #     charmap[ch]=val-self.start\n",
    "        # print(charmap)\n",
    "        for ch in string:\n",
    "            charmap[ch]=((ord(ch)-self.start)+key)%self.k + self.start\n",
    "        # print(charmap)\n",
    "        # convertiong character to cypher     \n",
    "        for ch in string:\n",
    "            cych=chr(charmap[ch])\n",
    "            # print(cych)\n",
    "            cyphermap[ch]=cych\n",
    "            cypher+=cyphermap[ch]\n",
    "        # print(cypher)\n",
    "        return cypher,key\n",
    "    \n",
    "    def Decription(self,cypher,key):\n",
    "        string=''\n",
    "        stringmap={}\n",
    "        for cy in cypher:\n",
    "            stringmap[cy]=chr(((ord(cy)-self.start)-key)%self.k+self.start)\n",
    "            string+=stringmap[cy]\n",
    "        return string\n",
    "\n",
    "ende=BasicCryptology(start=chr(0),end=chr(126))\n",
    "cypher,key=ende.Encription('TAMAL MaLLIcK700 88',18)\n",
    "print(\"Encripted = \",cypher)\n",
    "string=ende.Decription(cypher,key)\n",
    "print(\"Decripted = \",string)\n",
    "\n",
    "\n"
   ]
  }
 ],
 "metadata": {
  "kernelspec": {
   "display_name": "Python 3",
   "language": "python",
   "name": "python3"
  },
  "language_info": {
   "name": "python",
   "version": "3.11.4"
  }
 },
 "nbformat": 4,
 "nbformat_minor": 2
}
