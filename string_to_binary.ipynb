{
 "cells": [
  {
   "cell_type": "code",
   "execution_count": 1,
   "metadata": {},
   "outputs": [],
   "source": [
    "class low_high_low:\n",
    "    def __init__(self): # constructor\n",
    "        pass\n",
    "    def to_8bit_binary(self,num):\n",
    "        binary_str=''\n",
    "        # print(\"Ascii = \",num)\n",
    "        while num>0:\n",
    "            binary_str=str(num%2)+binary_str\n",
    "            num=int(num/2)\n",
    "            # print(num)\n",
    "        # print(\"\\n\\nBinary \",binary_str)\n",
    "        while len(binary_str)<8:\n",
    "            binary_str='0'+binary_str\n",
    "        return binary_str\n",
    "    def low_high(self,str):\n",
    "        binary_val_sum=''\n",
    "        for char in str:\n",
    "            asci_val=ord(char)\n",
    "            binary_val_sum+=self.to_8bit_binary(asci_val)\n",
    "        return binary_val_sum\n",
    "    def to_string(self,binary_str):\n",
    "        # asci_char=0\n",
    "        # binary_len=len(binary_str)\n",
    "        # alpha=0\n",
    "        # # for char in binary_str:\n",
    "        # int_val=int(binary_str)\n",
    "        # while int_val>0:\n",
    "        #     asci_char+=(int_val%10)*2**alpha\n",
    "        #     alpha=alpha+1\n",
    "        #     int_val=int(int_val/10)\n",
    "        return chr(int(binary_str,2))\n",
    "    def high_low(self,binary_str):\n",
    "        ascii_string=''\n",
    "        for i in range(0,len(binary_str),8):\n",
    "            binary_8bit=binary_str[i:i+8]\n",
    "            # print(binary_8bit,len(binary_8bit))\n",
    "            # print(int(binary_str,2))\n",
    "            # ascii_string+=self.to_string(binary_8bit)\n",
    "            ascii_string+=chr(int(binary_8bit,2))\n",
    "        return ascii_string\n",
    "\n",
    "c1=low_high_low()\n"
   ]
  },
  {
   "cell_type": "code",
   "execution_count": 2,
   "metadata": {},
   "outputs": [
    {
     "name": "stdout",
     "output_type": "stream",
     "text": [
      "Binary \n",
      ">> 010011010111100100100000010011100110000101101101011001010010000001101001011100110010000001010100011000010110110101100001011011000010000001001101011000010110110001101100011010010110001101101011\n",
      "Decimal\n",
      ">> My Name is Tamal Mallick\n"
     ]
    }
   ],
   "source": [
    "\n",
    "binary=c1.low_high(\"My Name is Tamal Mallick\")\n",
    "print(\"Binary \\n>>\",binary)\n",
    "str=c1.high_low(binary)\n",
    "print(\"Decimal\\n>>\",str)"
   ]
  }
 ],
 "metadata": {
  "kernelspec": {
   "display_name": "Python 3",
   "language": "python",
   "name": "python3"
  },
  "language_info": {
   "codemirror_mode": {
    "name": "ipython",
    "version": 3
   },
   "file_extension": ".py",
   "mimetype": "text/x-python",
   "name": "python",
   "nbconvert_exporter": "python",
   "pygments_lexer": "ipython3",
   "version": "3.11.4"
  }
 },
 "nbformat": 4,
 "nbformat_minor": 2
}
